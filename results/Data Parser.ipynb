{
 "cells": [
  {
   "cell_type": "code",
   "execution_count": 44,
   "id": "detailed-surname",
   "metadata": {},
   "outputs": [],
   "source": [
    "lines = None\n",
    "with open(\"./contresourcesnode.txt\", 'r') as file:\n",
    "    lines = file.readlines()\n",
    "\n",
    "lines.pop()\n",
    "if (len(lines) % 2 == 1):\n",
    "    lines.pop()\n",
    "\n",
    "cpu = []\n",
    "mem = []\n",
    "\n",
    "i = 0\n",
    "while i < len(lines):\n",
    "    val = getres(lines[i])\n",
    "    val2 = getres(lines[i+1])\n",
    "    cpu.append(str((val[0] + val2[0]) /2))\n",
    "    mem.append(str((val[1] + val2[1]) /2))\n",
    "    i+=2\n",
    "    \n",
    "with open(\"cpu_container_flow_node.csv\", 'w') as file:\n",
    "    file.write(\"\\n\".join(cpu))\n",
    "\n",
    "        \n",
    "with open(\"mem_container_flow_node.csv\", 'w') as file:\n",
    "    file.write(\"\\n\".join(mem))"
   ]
  },
  {
   "cell_type": "code",
   "execution_count": 33,
   "id": "lined-logan",
   "metadata": {},
   "outputs": [],
   "source": [
    "import re\n",
    "\n",
    "def getres(line):\n",
    "    line = re.sub(\"\\s+\",\" \",line)\n",
    "    vals = line.split(\" \")\n",
    "    return float(vals[9]), float(vals[10])"
   ]
  },
  {
   "cell_type": "code",
   "execution_count": null,
   "id": "optional-shoot",
   "metadata": {},
   "outputs": [],
   "source": []
  }
 ],
 "metadata": {
  "kernelspec": {
   "display_name": "Python 3",
   "language": "python",
   "name": "python3"
  },
  "language_info": {
   "codemirror_mode": {
    "name": "ipython",
    "version": 3
   },
   "file_extension": ".py",
   "mimetype": "text/x-python",
   "name": "python",
   "nbconvert_exporter": "python",
   "pygments_lexer": "ipython3",
   "version": "3.8.5"
  }
 },
 "nbformat": 4,
 "nbformat_minor": 5
}
